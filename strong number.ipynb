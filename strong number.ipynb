{
 "cells": [
  {
   "cell_type": "code",
   "execution_count": 2,
   "metadata": {},
   "outputs": [
    {
     "name": "stdout",
     "output_type": "stream",
     "text": [
      "enter a number: 6\n",
      "[720]\n",
      "720\n",
      "the number 6 is not a strong number\n"
     ]
    }
   ],
   "source": [
    "# checking if the number is a strong number\n",
    "def strong_number():\n",
    "    import math as mt \n",
    "    strong_list=[]\n",
    "    num= input('enter a number: ')\n",
    "    \n",
    "    # finding the factorial of the digits in the given number and adding them to a list\n",
    "    for x in num:\n",
    "        strong_list= strong_list+ [mt.factorial(int(x))]  \n",
    "    print(strong_list)\n",
    "    \n",
    "    # calculating the sum of factorials of digits. \n",
    "    strong_sum= 0\n",
    "    for y in range(0, len(strong_list)):\n",
    "        strong_sum= strong_sum + strong_list[int(y)]\n",
    "    print(strong_sum)\n",
    "    \n",
    "    # checking if the sum is equal to the given number \n",
    "    if strong_sum==int(num):\n",
    "        print('the given number '+ str(num)+ ' is a strong number')\n",
    "    else:\n",
    "        print('the number ' + str(num) + ' is not a strong number')\n",
    "t= strong_number()\n"
   ]
  },
  {
   "cell_type": "code",
   "execution_count": null,
   "metadata": {},
   "outputs": [],
   "source": []
  }
 ],
 "metadata": {
  "kernelspec": {
   "display_name": "Python 3",
   "language": "python",
   "name": "python3"
  },
  "language_info": {
   "codemirror_mode": {
    "name": "ipython",
    "version": 3
   },
   "file_extension": ".py",
   "mimetype": "text/x-python",
   "name": "python",
   "nbconvert_exporter": "python",
   "pygments_lexer": "ipython3",
   "version": "3.7.6"
  }
 },
 "nbformat": 4,
 "nbformat_minor": 4
}
