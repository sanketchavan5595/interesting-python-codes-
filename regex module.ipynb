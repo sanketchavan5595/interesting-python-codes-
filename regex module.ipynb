{
 "cells": [
  {
   "cell_type": "markdown",
   "metadata": {},
   "source": [
    "**the codes are found in the link given below:**\n",
    "\n",
    "https://www.youtube.com/redirect?event=video_description&redir_token=QUFFLUhqbF9oQjJ0ZW44NU5vZEl4emhZV2xVSTk4eEctUXxBQ3Jtc0trSFJiRGJzenJkR0JlejExTHZ1d1hPVnRiSERMeS14S2QwOEs5QjIxdmYzZnVUazcyWDlDeTItbl8xQ0R3WEVLcHhvVmIyeEQtQkRENG5KSUZPU0dZamJWWVMtZWZYRUtFT0ZBVlNpTkczaVczMGZEbw&q=https%3A%2F%2Fgithub.com%2FCoreyMSchafer%2Fcode_snippets%2Ftree%2Fmaster%2FPython-Regular-Expressions"
   ]
  },
  {
   "cell_type": "code",
   "execution_count": 1,
   "metadata": {},
   "outputs": [],
   "source": [
    "import re "
   ]
  },
  {
   "cell_type": "code",
   "execution_count": 39,
   "metadata": {},
   "outputs": [],
   "source": [
    "text_to_search = '''\n",
    " abcdefghijklmnopqrstuvwxyz\n",
    " ABCDEFGHIJKLMNOPQRSTUVWXYZ\n",
    " 1234567890\n",
    " \n",
    " Ha HaHa\n",
    " \n",
    " MetaCharacters: \n",
    " . ^ $ * + ? { } [ ] \\ | ( ) \n",
    " coreyms.com\n",
    " 321-555-4321\n",
    " 123.555.1234\n",
    " \n",
    " Mr. Schafer\n",
    " Mr Smith\n",
    " Ms Davis\n",
    " Mrs. Robinson\n",
    " Mr. \n",
    " '''"
   ]
  },
  {
   "cell_type": "code",
   "execution_count": 40,
   "metadata": {},
   "outputs": [
    {
     "name": "stdout",
     "output_type": "stream",
     "text": [
      "\tTab\n",
      "\\tTab\n"
     ]
    }
   ],
   "source": [
    "# raw string\n",
    "s = '\\tTab'\n",
    "print(s)\n",
    "\n",
    "print(r'\\tTab')"
   ]
  },
  {
   "cell_type": "code",
   "execution_count": 41,
   "metadata": {},
   "outputs": [
    {
     "name": "stdout",
     "output_type": "stream",
     "text": [
      "<re.Match object; span=(2, 5), match='abc'>\n"
     ]
    }
   ],
   "source": [
    "# creating a pattern to search\n",
    "pattern = re.compile(r'abc')\n",
    "\n",
    "# finding the matches\n",
    "matches = pattern.finditer(text_to_search)\n",
    "\n",
    "# printing the matches\n",
    "for match in matches:\n",
    "    print(match)"
   ]
  },
  {
   "cell_type": "code",
   "execution_count": 42,
   "metadata": {},
   "outputs": [
    {
     "name": "stdout",
     "output_type": "stream",
     "text": [
      "abc\n"
     ]
    }
   ],
   "source": [
    "# the search is case sensitive\n",
    "# span gives us the range of indices \n",
    "# where the given string has ocurred\n",
    "print(text_to_search[2:5])"
   ]
  },
  {
   "cell_type": "code",
   "execution_count": 43,
   "metadata": {},
   "outputs": [
    {
     "name": "stdout",
     "output_type": "stream",
     "text": [
      "<re.Match object; span=(101, 102), match='.'>\n",
      "<re.Match object; span=(138, 139), match='.'>\n",
      "<re.Match object; span=(161, 162), match='.'>\n",
      "<re.Match object; span=(165, 166), match='.'>\n",
      "<re.Match object; span=(176, 177), match='.'>\n",
      "<re.Match object; span=(210, 211), match='.'>\n",
      "<re.Match object; span=(224, 225), match='.'>\n"
     ]
    }
   ],
   "source": [
    "# finding the meta characters\n",
    "meta_pattern = re.compile(r'\\.')\n",
    "meta_matches = meta_pattern.finditer(text_to_search)\n",
    "for match in meta_matches:\n",
    "    print(match)"
   ]
  },
  {
   "cell_type": "code",
   "execution_count": 44,
   "metadata": {},
   "outputs": [
    {
     "data": {
      "text/plain": [
       "'.'"
      ]
     },
     "execution_count": 44,
     "metadata": {},
     "output_type": "execute_result"
    }
   ],
   "source": [
    "text_to_search[101:102]"
   ]
  },
  {
   "cell_type": "code",
   "execution_count": 45,
   "metadata": {},
   "outputs": [
    {
     "name": "stdout",
     "output_type": "stream",
     "text": [
      "<re.Match object; span=(131, 142), match='coreyms.com'>\n"
     ]
    }
   ],
   "source": [
    " # finding the URL\n",
    "url_pattern = re.compile(r'coreyms\\.com')\n",
    "# note: \n",
    "# you need to escape the . meta character\n",
    "url_matches = url_pattern.finditer(text_to_search)\n",
    "for url in url_matches:\n",
    "    print(url)"
   ]
  },
  {
   "cell_type": "code",
   "execution_count": 46,
   "metadata": {},
   "outputs": [
    {
     "data": {
      "text/plain": [
       "'coreyms.com'"
      ]
     },
     "execution_count": 46,
     "metadata": {},
     "output_type": "execute_result"
    }
   ],
   "source": [
    "text_to_search[131:142]"
   ]
  },
  {
   "cell_type": "code",
   "execution_count": 47,
   "metadata": {},
   "outputs": [
    {
     "name": "stdout",
     "output_type": "stream",
     "text": [
      "<re.Match object; span=(58, 59), match='1'>\n",
      "<re.Match object; span=(59, 60), match='2'>\n",
      "<re.Match object; span=(60, 61), match='3'>\n",
      "<re.Match object; span=(61, 62), match='4'>\n",
      "<re.Match object; span=(62, 63), match='5'>\n",
      "<re.Match object; span=(63, 64), match='6'>\n",
      "<re.Match object; span=(64, 65), match='7'>\n",
      "<re.Match object; span=(65, 66), match='8'>\n",
      "<re.Match object; span=(66, 67), match='9'>\n",
      "<re.Match object; span=(67, 68), match='0'>\n",
      "<re.Match object; span=(144, 145), match='3'>\n",
      "<re.Match object; span=(145, 146), match='2'>\n",
      "<re.Match object; span=(146, 147), match='1'>\n",
      "<re.Match object; span=(148, 149), match='5'>\n",
      "<re.Match object; span=(149, 150), match='5'>\n",
      "<re.Match object; span=(150, 151), match='5'>\n",
      "<re.Match object; span=(152, 153), match='4'>\n",
      "<re.Match object; span=(153, 154), match='3'>\n",
      "<re.Match object; span=(154, 155), match='2'>\n",
      "<re.Match object; span=(155, 156), match='1'>\n",
      "<re.Match object; span=(158, 159), match='1'>\n",
      "<re.Match object; span=(159, 160), match='2'>\n",
      "<re.Match object; span=(160, 161), match='3'>\n",
      "<re.Match object; span=(162, 163), match='5'>\n",
      "<re.Match object; span=(163, 164), match='5'>\n",
      "<re.Match object; span=(164, 165), match='5'>\n",
      "<re.Match object; span=(166, 167), match='1'>\n",
      "<re.Match object; span=(167, 168), match='2'>\n",
      "<re.Match object; span=(168, 169), match='3'>\n",
      "<re.Match object; span=(169, 170), match='4'>\n"
     ]
    }
   ],
   "source": [
    "# finding the digits \n",
    "# by using \\d\n",
    "digit_pattern = re.compile(r'\\d')\n",
    "digit_matches = digit_pattern.finditer(text_to_search)\n",
    "for digits in digit_matches:\n",
    "    print(digits)"
   ]
  },
  {
   "cell_type": "code",
   "execution_count": 48,
   "metadata": {},
   "outputs": [
    {
     "data": {
      "text/plain": [
       "'2'"
      ]
     },
     "execution_count": 48,
     "metadata": {},
     "output_type": "execute_result"
    }
   ],
   "source": [
    "text_to_search[59:60]"
   ]
  },
  {
   "cell_type": "markdown",
   "metadata": {},
   "source": [
    "* **\\small_case letter will match the characters they are meant to match**\n",
    "* **\\Upper_case letter will match the characters except the characters which \\small_case letter matches**\n",
    "\n",
    "* **for eg**\n",
    "* **\\d will match all the digits**\n",
    "* **\\D will match every character except digits**"
   ]
  },
  {
   "cell_type": "code",
   "execution_count": 49,
   "metadata": {},
   "outputs": [
    {
     "name": "stdout",
     "output_type": "stream",
     "text": [
      "<re.Match object; span=(72, 74), match='Ha'>\n",
      "<re.Match object; span=(75, 77), match='Ha'>\n"
     ]
    }
   ],
   "source": [
    "# finding specific words with word boundaries\n",
    "specific_pattern = re.compile(r'\\bHa')\n",
    "specific_matches = specific_pattern.finditer(text_to_search)\n",
    "for match in specific_matches:\n",
    "    print(match)"
   ]
  },
  {
   "cell_type": "code",
   "execution_count": 50,
   "metadata": {},
   "outputs": [
    {
     "data": {
      "text/plain": [
       "'Ha'"
      ]
     },
     "execution_count": 50,
     "metadata": {},
     "output_type": "execute_result"
    }
   ],
   "source": [
    "text_to_search[75:77]"
   ]
  },
  {
   "cell_type": "code",
   "execution_count": 51,
   "metadata": {},
   "outputs": [
    {
     "name": "stdout",
     "output_type": "stream",
     "text": [
      "<re.Match object; span=(0, 2), match='My'>\n"
     ]
    }
   ],
   "source": [
    "# searching a patter at the beginning of the string\n",
    "sentence = 'My name is Sanket'\n",
    "specific_pattern = re.compile(r'^My')\n",
    "specific_matches = specific_pattern.finditer(sentence)\n",
    "for match in specific_matches:\n",
    "    print(match)"
   ]
  },
  {
   "cell_type": "code",
   "execution_count": 52,
   "metadata": {},
   "outputs": [
    {
     "data": {
      "text/plain": [
       "'My'"
      ]
     },
     "execution_count": 52,
     "metadata": {},
     "output_type": "execute_result"
    }
   ],
   "source": [
    "sentence[0:2]"
   ]
  },
  {
   "cell_type": "code",
   "execution_count": 53,
   "metadata": {},
   "outputs": [
    {
     "name": "stdout",
     "output_type": "stream",
     "text": [
      "<re.Match object; span=(11, 17), match='Sanket'>\n"
     ]
    }
   ],
   "source": [
    "# searching a patter at the end of the string\n",
    "sentence = 'My name is Sanket'\n",
    "specific_pattern = re.compile(r'Sanket$')\n",
    "specific_matches = specific_pattern.finditer(sentence)\n",
    "for match in specific_matches:\n",
    "    print(match)"
   ]
  },
  {
   "cell_type": "code",
   "execution_count": 54,
   "metadata": {},
   "outputs": [
    {
     "data": {
      "text/plain": [
       "'Sanket'"
      ]
     },
     "execution_count": 54,
     "metadata": {},
     "output_type": "execute_result"
    }
   ],
   "source": [
    "sentence[11:17]"
   ]
  },
  {
   "cell_type": "markdown",
   "metadata": {},
   "source": [
    "### Practical examples"
   ]
  },
  {
   "cell_type": "code",
   "execution_count": 55,
   "metadata": {},
   "outputs": [
    {
     "name": "stdout",
     "output_type": "stream",
     "text": [
      "\n",
      " abcdefghijklmnopqrstuvwxyz\n",
      " ABCDEFGHIJKLMNOPQRSTUVWXYZ\n",
      " 1234567890\n",
      " \n",
      " Ha HaHa\n",
      " \n",
      " MetaCharacters: \n",
      " . ^ $ * + ? { } [ ] \\ | ( ) \n",
      " coreyms.com\n",
      " 321-555-4321\n",
      " 123.555.1234\n",
      " \n",
      " Mr. Schafer\n",
      " Mr Smith\n",
      " Ms Davis\n",
      " Mrs. Robinson\n",
      " Mr. \n",
      " \n"
     ]
    }
   ],
   "source": [
    "print(text_to_search)"
   ]
  },
  {
   "cell_type": "code",
   "execution_count": 56,
   "metadata": {},
   "outputs": [
    {
     "name": "stdout",
     "output_type": "stream",
     "text": [
      "<re.Match object; span=(58, 61), match='123'>\n",
      "<re.Match object; span=(61, 64), match='456'>\n",
      "<re.Match object; span=(64, 67), match='789'>\n",
      "<re.Match object; span=(144, 147), match='321'>\n",
      "<re.Match object; span=(148, 151), match='555'>\n",
      "<re.Match object; span=(152, 155), match='432'>\n",
      "<re.Match object; span=(158, 161), match='123'>\n",
      "<re.Match object; span=(162, 165), match='555'>\n",
      "<re.Match object; span=(166, 169), match='123'>\n"
     ]
    }
   ],
   "source": [
    "# finding the three digit combination\n",
    "pattern = re.compile(r'\\d\\d\\d')\n",
    "matches = pattern.finditer(text_to_search)\n",
    "for match in matches:\n",
    "    print(match)"
   ]
  },
  {
   "cell_type": "code",
   "execution_count": 57,
   "metadata": {},
   "outputs": [
    {
     "data": {
      "text/plain": [
       "'123'"
      ]
     },
     "execution_count": 57,
     "metadata": {},
     "output_type": "execute_result"
    }
   ],
   "source": [
    "text_to_search[58:61]"
   ]
  },
  {
   "cell_type": "code",
   "execution_count": 62,
   "metadata": {},
   "outputs": [
    {
     "name": "stdout",
     "output_type": "stream",
     "text": [
      "<re.Match object; span=(144, 156), match='321-555-4321'>\n",
      "<re.Match object; span=(158, 170), match='123.555.1234'>\n"
     ]
    }
   ],
   "source": [
    "# getting the phone numbers\n",
    "pattern = re.compile(r'\\d\\d\\d[-.]\\d\\d\\d[-.]\\d\\d\\d\\d')\n",
    "matches = pattern.finditer(text_to_search)\n",
    "for match in matches:\n",
    "    print(match)"
   ]
  },
  {
   "cell_type": "code",
   "execution_count": 63,
   "metadata": {},
   "outputs": [
    {
     "data": {
      "text/plain": [
       "'321-555-4321'"
      ]
     },
     "execution_count": 63,
     "metadata": {},
     "output_type": "execute_result"
    }
   ],
   "source": [
    "text_to_search[144:156]"
   ]
  },
  {
   "cell_type": "code",
   "execution_count": 68,
   "metadata": {},
   "outputs": [
    {
     "name": "stdout",
     "output_type": "stream",
     "text": [
      "<re.Match object; span=(1, 13), match='800-500-6001'>\n",
      "<re.Match object; span=(14, 26), match='900-888-5962'>\n"
     ]
    }
   ],
   "source": [
    "numbers = '''\n",
    "800-500-6001\n",
    "900-888-5962\n",
    "500-594-5953\n",
    "400-589-8744\n",
    "656-969-4645\n",
    "'''\n",
    "# finding numbers starting with specific digit\n",
    "# let's consider those specific digits are 8 and 9\n",
    "pattern = re.compile(r'[89]00[-.]\\d\\d\\d[-.]\\d\\d\\d\\d')\n",
    "matches = pattern.finditer(numbers)\n",
    "for match in matches:\n",
    "    print(match)"
   ]
  },
  {
   "cell_type": "code",
   "execution_count": 72,
   "metadata": {},
   "outputs": [
    {
     "name": "stdout",
     "output_type": "stream",
     "text": [
      "<re.Match object; span=(146, 156), match='1-555-4321'>\n",
      "<re.Match object; span=(160, 170), match='3.555.1234'>\n"
     ]
    }
   ],
   "source": [
    "# finding the numbers with specific range of values\n",
    "pattern = re.compile(r'[0-5][-.]\\d\\d\\d[-.]\\d\\d\\d\\d')\n",
    "matches = pattern.finditer(text_to_search)\n",
    "for match in matches:\n",
    "    print(match)"
   ]
  },
  {
   "cell_type": "code",
   "execution_count": 75,
   "metadata": {
    "scrolled": true
   },
   "outputs": [
    {
     "name": "stdout",
     "output_type": "stream",
     "text": [
      "<re.Match object; span=(2, 3), match='a'>\n",
      "<re.Match object; span=(3, 4), match='b'>\n",
      "<re.Match object; span=(4, 5), match='c'>\n",
      "<re.Match object; span=(5, 6), match='d'>\n",
      "<re.Match object; span=(6, 7), match='e'>\n",
      "<re.Match object; span=(30, 31), match='A'>\n",
      "<re.Match object; span=(31, 32), match='B'>\n",
      "<re.Match object; span=(32, 33), match='C'>\n",
      "<re.Match object; span=(33, 34), match='D'>\n",
      "<re.Match object; span=(34, 35), match='E'>\n",
      "<re.Match object; span=(73, 74), match='a'>\n",
      "<re.Match object; span=(76, 77), match='a'>\n",
      "<re.Match object; span=(78, 79), match='a'>\n",
      "<re.Match object; span=(84, 85), match='e'>\n",
      "<re.Match object; span=(86, 87), match='a'>\n",
      "<re.Match object; span=(87, 88), match='C'>\n",
      "<re.Match object; span=(89, 90), match='a'>\n",
      "<re.Match object; span=(91, 92), match='a'>\n",
      "<re.Match object; span=(92, 93), match='c'>\n",
      "<re.Match object; span=(94, 95), match='e'>\n",
      "<re.Match object; span=(131, 132), match='c'>\n",
      "<re.Match object; span=(134, 135), match='e'>\n",
      "<re.Match object; span=(139, 140), match='c'>\n",
      "<re.Match object; span=(179, 180), match='c'>\n",
      "<re.Match object; span=(181, 182), match='a'>\n",
      "<re.Match object; span=(183, 184), match='e'>\n",
      "<re.Match object; span=(200, 201), match='D'>\n",
      "<re.Match object; span=(201, 202), match='a'>\n",
      "<re.Match object; span=(214, 215), match='b'>\n"
     ]
    }
   ],
   "source": [
    "# finding the strings with range of strings\n",
    "# here a-e and A-E is used\n",
    "pattern = re.compile(r'[a-eA-E]')\n",
    "matches = pattern.finditer(text_to_search)\n",
    "for match in matches:\n",
    "    print(match)\n",
    "\n",
    "# to negate the character-set \n",
    "# use ^ \n",
    "# for eg: [^a-e]"
   ]
  },
  {
   "cell_type": "code",
   "execution_count": 77,
   "metadata": {
    "scrolled": true
   },
   "outputs": [
    {
     "name": "stdout",
     "output_type": "stream",
     "text": [
      "<re.Match object; span=(0, 1), match='\\n'>\n",
      "<re.Match object; span=(1, 2), match=' '>\n",
      "<re.Match object; span=(28, 29), match='\\n'>\n",
      "<re.Match object; span=(29, 30), match=' '>\n",
      "<re.Match object; span=(56, 57), match='\\n'>\n",
      "<re.Match object; span=(57, 58), match=' '>\n",
      "<re.Match object; span=(68, 69), match='\\n'>\n",
      "<re.Match object; span=(69, 70), match=' '>\n",
      "<re.Match object; span=(70, 71), match='\\n'>\n",
      "<re.Match object; span=(71, 72), match=' '>\n",
      "<re.Match object; span=(74, 75), match=' '>\n",
      "<re.Match object; span=(79, 80), match='\\n'>\n",
      "<re.Match object; span=(80, 81), match=' '>\n",
      "<re.Match object; span=(81, 82), match='\\n'>\n",
      "<re.Match object; span=(82, 83), match=' '>\n",
      "<re.Match object; span=(97, 98), match=':'>\n",
      "<re.Match object; span=(98, 99), match=' '>\n",
      "<re.Match object; span=(99, 100), match='\\n'>\n",
      "<re.Match object; span=(100, 101), match=' '>\n",
      "<re.Match object; span=(101, 102), match='.'>\n",
      "<re.Match object; span=(102, 103), match=' '>\n",
      "<re.Match object; span=(103, 104), match='^'>\n",
      "<re.Match object; span=(104, 105), match=' '>\n",
      "<re.Match object; span=(105, 106), match='$'>\n",
      "<re.Match object; span=(106, 107), match=' '>\n",
      "<re.Match object; span=(107, 108), match='*'>\n",
      "<re.Match object; span=(108, 109), match=' '>\n",
      "<re.Match object; span=(109, 110), match='+'>\n",
      "<re.Match object; span=(110, 111), match=' '>\n",
      "<re.Match object; span=(111, 112), match='?'>\n",
      "<re.Match object; span=(112, 113), match=' '>\n",
      "<re.Match object; span=(113, 114), match='{'>\n",
      "<re.Match object; span=(114, 115), match=' '>\n",
      "<re.Match object; span=(115, 116), match='}'>\n",
      "<re.Match object; span=(116, 117), match=' '>\n",
      "<re.Match object; span=(117, 118), match='['>\n",
      "<re.Match object; span=(118, 119), match=' '>\n",
      "<re.Match object; span=(119, 120), match=']'>\n",
      "<re.Match object; span=(120, 121), match=' '>\n",
      "<re.Match object; span=(121, 122), match='\\\\'>\n",
      "<re.Match object; span=(122, 123), match=' '>\n",
      "<re.Match object; span=(123, 124), match='|'>\n",
      "<re.Match object; span=(124, 125), match=' '>\n",
      "<re.Match object; span=(125, 126), match='('>\n",
      "<re.Match object; span=(126, 127), match=' '>\n",
      "<re.Match object; span=(127, 128), match=')'>\n",
      "<re.Match object; span=(128, 129), match=' '>\n",
      "<re.Match object; span=(129, 130), match='\\n'>\n",
      "<re.Match object; span=(130, 131), match=' '>\n",
      "<re.Match object; span=(138, 139), match='.'>\n",
      "<re.Match object; span=(142, 143), match='\\n'>\n",
      "<re.Match object; span=(143, 144), match=' '>\n",
      "<re.Match object; span=(147, 148), match='-'>\n",
      "<re.Match object; span=(151, 152), match='-'>\n",
      "<re.Match object; span=(156, 157), match='\\n'>\n",
      "<re.Match object; span=(157, 158), match=' '>\n",
      "<re.Match object; span=(161, 162), match='.'>\n",
      "<re.Match object; span=(165, 166), match='.'>\n",
      "<re.Match object; span=(170, 171), match='\\n'>\n",
      "<re.Match object; span=(171, 172), match=' '>\n",
      "<re.Match object; span=(172, 173), match='\\n'>\n",
      "<re.Match object; span=(173, 174), match=' '>\n",
      "<re.Match object; span=(176, 177), match='.'>\n",
      "<re.Match object; span=(177, 178), match=' '>\n",
      "<re.Match object; span=(185, 186), match='\\n'>\n",
      "<re.Match object; span=(186, 187), match=' '>\n",
      "<re.Match object; span=(189, 190), match=' '>\n",
      "<re.Match object; span=(195, 196), match='\\n'>\n",
      "<re.Match object; span=(196, 197), match=' '>\n",
      "<re.Match object; span=(199, 200), match=' '>\n",
      "<re.Match object; span=(205, 206), match='\\n'>\n",
      "<re.Match object; span=(206, 207), match=' '>\n",
      "<re.Match object; span=(210, 211), match='.'>\n",
      "<re.Match object; span=(211, 212), match=' '>\n",
      "<re.Match object; span=(220, 221), match='\\n'>\n",
      "<re.Match object; span=(221, 222), match=' '>\n",
      "<re.Match object; span=(224, 225), match='.'>\n",
      "<re.Match object; span=(225, 226), match=' '>\n",
      "<re.Match object; span=(226, 227), match='\\n'>\n",
      "<re.Match object; span=(227, 228), match=' '>\n"
     ]
    }
   ],
   "source": [
    "# finding only metacharacters\n",
    "# by negating the character-set\n",
    "pattern = re.compile(r'[^a-zA-Z0-9]')\n",
    "matches = pattern.finditer(text_to_search)\n",
    "for match in matches:\n",
    "    print(match)"
   ]
  },
  {
   "cell_type": "code",
   "execution_count": 78,
   "metadata": {},
   "outputs": [
    {
     "name": "stdout",
     "output_type": "stream",
     "text": [
      "<re.Match object; span=(144, 156), match='321-555-4321'>\n",
      "<re.Match object; span=(158, 170), match='123.555.1234'>\n"
     ]
    }
   ],
   "source": [
    "# using quantifiers\n",
    "pattern = re.compile(r'\\d{3}.\\d{3}.\\d{4}')\n",
    "matches = pattern.finditer(text_to_search)\n",
    "for match in matches:\n",
    "    print(match)"
   ]
  },
  {
   "cell_type": "code",
   "execution_count": 82,
   "metadata": {},
   "outputs": [
    {
     "name": "stdout",
     "output_type": "stream",
     "text": [
      "<re.Match object; span=(174, 177), match='Mr.'>\n",
      "<re.Match object; span=(187, 189), match='Mr'>\n",
      "<re.Match object; span=(207, 209), match='Mr'>\n",
      "<re.Match object; span=(222, 225), match='Mr.'>\n"
     ]
    }
   ],
   "source": [
    "# matching characters which are optional \n",
    "pattern = re.compile(r'Mr\\.?') \n",
    "# here the '.' is optional\n",
    "matches = pattern.finditer(text_to_search)\n",
    "for match in matches:\n",
    "    print(match)"
   ]
  },
  {
   "cell_type": "code",
   "execution_count": 85,
   "metadata": {},
   "outputs": [
    {
     "name": "stdout",
     "output_type": "stream",
     "text": [
      "<re.Match object; span=(174, 185), match='Mr. Schafer'>\n",
      "<re.Match object; span=(187, 195), match='Mr Smith'>\n"
     ]
    }
   ],
   "source": [
    "# getting the full names\n",
    "pattern = re.compile(r'Mr\\.?\\s[A-Z]\\w*') \n",
    "# here the '.' is optional\n",
    "matches = pattern.finditer(text_to_search)\n",
    "for match in matches:\n",
    "    print(match)"
   ]
  },
  {
   "cell_type": "code",
   "execution_count": 122,
   "metadata": {},
   "outputs": [
    {
     "name": "stdout",
     "output_type": "stream",
     "text": [
      "Mr. Schafer\n",
      "Mr Smith\n",
      "Ms Davis\n",
      "Mrs. Robinson\n"
     ]
    }
   ],
   "source": [
    "# getting all the full names using groups\n",
    "pattern = re.compile(r'(Mr|Ms|Mrs)\\.?\\s[A-Z]\\w*') \n",
    "# here the '.' is optional\n",
    "matches = pattern.finditer(text_to_search)\n",
    "for match in matches:\n",
    "    print(match.group(0))"
   ]
  },
  {
   "cell_type": "code",
   "execution_count": 129,
   "metadata": {},
   "outputs": [
    {
     "name": "stdout",
     "output_type": "stream",
     "text": [
      "321-555-4321\n",
      "123.555.1234\n"
     ]
    }
   ],
   "source": [
    "# using findall \n",
    "# it returns a list\n",
    "pattern = re.compile(r'\\d{3}.\\d{3}.\\d{4}') \n",
    "# here the '.' is optional\n",
    "matches = pattern.findall(text_to_search)\n",
    "for match in matches:\n",
    "    print(match)"
   ]
  },
  {
   "cell_type": "code",
   "execution_count": 130,
   "metadata": {},
   "outputs": [
    {
     "data": {
      "text/plain": [
       "['321-555-4321', '123.555.1234']"
      ]
     },
     "execution_count": 130,
     "metadata": {},
     "output_type": "execute_result"
    }
   ],
   "source": [
    "matches"
   ]
  },
  {
   "cell_type": "code",
   "execution_count": 137,
   "metadata": {},
   "outputs": [
    {
     "name": "stdout",
     "output_type": "stream",
     "text": [
      "My name is Sanket\n",
      "<re.Match object; span=(0, 2), match='My'>\n",
      "\n",
      "\n",
      "None\n"
     ]
    }
   ],
   "source": [
    "# using match\n",
    "# returns the word if it occurs at the beginning \n",
    "# otherwise returns None\n",
    "print(sentence)\n",
    "pattern = re.compile(r'My')\n",
    "matches = pattern.match(sentence)\n",
    "print(matches)\n",
    "\n",
    "print('\\n')\n",
    "pattern = re.compile(r'name')\n",
    "matches = pattern.match(sentence)\n",
    "print(matches)"
   ]
  },
  {
   "cell_type": "code",
   "execution_count": 141,
   "metadata": {},
   "outputs": [
    {
     "name": "stdout",
     "output_type": "stream",
     "text": [
      "<re.Match object; span=(3, 7), match='name'>\n"
     ]
    }
   ],
   "source": [
    "# using search \n",
    "# returns the word if it exists throughout the string\n",
    "pattern = re.compile(r'name')\n",
    "matches = pattern.search(sentence)\n",
    "print(matches)"
   ]
  },
  {
   "cell_type": "code",
   "execution_count": 145,
   "metadata": {},
   "outputs": [
    {
     "name": "stdout",
     "output_type": "stream",
     "text": [
      "My name is Sanket\n",
      "<re.Match object; span=(11, 17), match='Sanket'>\n"
     ]
    }
   ],
   "source": [
    "# getting a word irrespective of the case\n",
    "print(sentence)\n",
    "pattern = re.compile(r'sanket', re.I)\n",
    "matches = pattern.search(sentence)\n",
    "print(matches)"
   ]
  },
  {
   "cell_type": "code",
   "execution_count": null,
   "metadata": {},
   "outputs": [],
   "source": []
  }
 ],
 "metadata": {
  "kernelspec": {
   "display_name": "Python 3",
   "language": "python",
   "name": "python3"
  },
  "language_info": {
   "codemirror_mode": {
    "name": "ipython",
    "version": 3
   },
   "file_extension": ".py",
   "mimetype": "text/x-python",
   "name": "python",
   "nbconvert_exporter": "python",
   "pygments_lexer": "ipython3",
   "version": "3.7.9"
  }
 },
 "nbformat": 4,
 "nbformat_minor": 4
}
