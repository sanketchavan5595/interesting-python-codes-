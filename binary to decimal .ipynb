{
 "cells": [
  {
   "cell_type": "code",
   "execution_count": 1,
   "metadata": {},
   "outputs": [
    {
     "name": "stdout",
     "output_type": "stream",
     "text": [
      "enter a binary number: 1101\n",
      "the decimal number is 13\n"
     ]
    }
   ],
   "source": [
    "# binary to decimal converter\n",
    "x= input('enter a binary number: ')\n",
    "    \n",
    "l= []\n",
    "\n",
    "for c in x:\n",
    "    l = l+ [c]\n",
    "def rev(t):\n",
    "    return t[::-1]\n",
    "r= rev(l)\n",
    "\n",
    "i=0\n",
    "h= []\n",
    "for t in r:\n",
    "    e= int(t)*(2**i)\n",
    "    h = h + [e]\n",
    "    i = i+1\n",
    "\n",
    "bisum = 0\n",
    "for y in range(0, len(h)):\n",
    "    bisum= bisum + h[int(y)]\n",
    "    \n",
    "print('the decimal number is '+str(bisum))\n",
    "    "
   ]
  },
  {
   "cell_type": "code",
   "execution_count": null,
   "metadata": {},
   "outputs": [],
   "source": []
  }
 ],
 "metadata": {
  "kernelspec": {
   "display_name": "Python 3",
   "language": "python",
   "name": "python3"
  },
  "language_info": {
   "codemirror_mode": {
    "name": "ipython",
    "version": 3
   },
   "file_extension": ".py",
   "mimetype": "text/x-python",
   "name": "python",
   "nbconvert_exporter": "python",
   "pygments_lexer": "ipython3",
   "version": "3.7.6"
  }
 },
 "nbformat": 4,
 "nbformat_minor": 4
}
