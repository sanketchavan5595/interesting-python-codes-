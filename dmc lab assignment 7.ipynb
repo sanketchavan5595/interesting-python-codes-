{
 "cells": [
  {
   "cell_type": "code",
   "execution_count": 4,
   "metadata": {},
   "outputs": [
    {
     "name": "stdout",
     "output_type": "stream",
     "text": [
      "sliding window protocol: \n",
      "enter the window size: 5\n",
      "enter the number of frames to transmit: 5\n",
      "enter 5 frames: \n",
      " 1\n",
      " 0\n",
      " 1\n",
      " 0\n",
      " 1\n",
      "the frames are sent in the following manner using sliding window protocol: \n",
      "after sending 5 frames at each stage, sender waits for the acknowledgement sent by the receiver \n",
      "0\n",
      "1\n",
      "0\n",
      "1\n"
     ]
    }
   ],
   "source": [
    "print(\"sliding window protocol: \")\n",
    "w = int(input(\"enter the window size: \"))\n",
    "f = int(input(\"enter the number of frames to transmit: \"))\n",
    "print(\"enter {} frames: \".format(f))\n",
    "frames = []\n",
    "for i in range(1, f+1):\n",
    "    frames.append(int(input(\" \")))\n",
    "print(\"the frames are sent in the following manner using sliding window protocol: \")\n",
    "print(\"after sending {} frames at each stage, sender waits for the acknowledgement sent by the receiver \".format(w))\n",
    "for i in range(1, f):\n",
    "    if i%w == 0:\n",
    "        print(frames[i])\n",
    "        print('acknowledgement of the above frames sent is received by the sender')\n",
    "    else:\n",
    "        print(frames[i])\n",
    "if(f%w != 0):\n",
    "    print('acknowledgement of the above frames sent is received by the receiver')\n",
    "        "
   ]
  },
  {
   "cell_type": "code",
   "execution_count": null,
   "metadata": {},
   "outputs": [],
   "source": []
  }
 ],
 "metadata": {
  "kernelspec": {
   "display_name": "Python 3",
   "language": "python",
   "name": "python3"
  },
  "language_info": {
   "codemirror_mode": {
    "name": "ipython",
    "version": 3
   },
   "file_extension": ".py",
   "mimetype": "text/x-python",
   "name": "python",
   "nbconvert_exporter": "python",
   "pygments_lexer": "ipython3",
   "version": "3.7.9"
  }
 },
 "nbformat": 4,
 "nbformat_minor": 4
}
