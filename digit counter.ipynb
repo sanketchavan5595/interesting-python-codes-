{
 "cells": [
  {
   "cell_type": "code",
   "execution_count": null,
   "metadata": {},
   "outputs": [],
   "source": [
    "# the digit counter\n",
    "import numpy as np\n",
    "print('this is the digit counter code')\n",
    "print('it will count all the digits that appear between the numbers you mention')\n",
    "s = int(input('enter the starting number: '))\n",
    "e = int(input('enter the ending number: '))\n",
    "ls = []\n",
    "list4 = np.arange(s, e+1)\n",
    "for i in list4:\n",
    "    for j in str(i):\n",
    "        ls = ls + [j]\n",
    "print(\"the number of digits between {} and {} are {} \".format(s, e, len(ls)))"
   ]
  },
  {
   "cell_type": "code",
   "execution_count": null,
   "metadata": {},
   "outputs": [],
   "source": []
  }
 ],
 "metadata": {
  "kernelspec": {
   "display_name": "Python 3",
   "language": "python",
   "name": "python3"
  },
  "language_info": {
   "codemirror_mode": {
    "name": "ipython",
    "version": 3
   },
   "file_extension": ".py",
   "mimetype": "text/x-python",
   "name": "python",
   "nbconvert_exporter": "python",
   "pygments_lexer": "ipython3",
   "version": "3.7.6"
  }
 },
 "nbformat": 4,
 "nbformat_minor": 4
}
