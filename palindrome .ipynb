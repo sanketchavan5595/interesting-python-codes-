{
 "cells": [
  {
   "cell_type": "code",
   "execution_count": 3,
   "metadata": {},
   "outputs": [
    {
     "name": "stdout",
     "output_type": "stream",
     "text": [
      "enter a word: 1001\n",
      "['1', '0', '0', '1']\n",
      "['1', '0', '0', '1']\n",
      "the given word is palindrome\n",
      "\n",
      "\n",
      "\n",
      "\n",
      "this is using a simplified code\n",
      "enter a word you want to check: 252\n",
      "['2', '5', '2']\n",
      "the reversed list is: \n",
      "['2', '5', '2']\n",
      "The given word is palindrome.\n"
     ]
    }
   ],
   "source": [
    "# program to check whether the given word is palindrome or not\n",
    "word= input('enter a word: ')\n",
    "w=[]\n",
    "for x in word:\n",
    "    w= w+[x]\n",
    "print(w)   \n",
    "\n",
    "# function to reverse the word\n",
    "def rev(y):\n",
    "    return y[::-1]\n",
    "\n",
    "t= rev(w)\n",
    "rev_t=[]\n",
    "\n",
    "\n",
    "for y in t:\n",
    "    rev_t= rev_t+ [y]\n",
    "print(rev_t)\n",
    "\n",
    "# passing the required condition. \n",
    "if w==rev_t:\n",
    "    print('the given word is palindrome')\n",
    "else:\n",
    "    print('the given word is not palindrome')\n",
    "    \n",
    "print('\\n')\n",
    "print('\\n')\n",
    "\n",
    "\n",
    "# simplified palindrome code\n",
    "print('this is using a simplified code')\n",
    "wordx= input('enter a word you want to check: ')\n",
    "list1= list(wordx)\n",
    "print(list1)\n",
    "list2= list(reversed(list1))\n",
    "print('the reversed list is: ')\n",
    "print(list2)\n",
    "\n",
    "if list2== list1:\n",
    "    print('The given word is palindrome.')\n",
    "else:\n",
    "    print('The given word is not palindrome.')"
   ]
  },
  {
   "cell_type": "code",
   "execution_count": null,
   "metadata": {},
   "outputs": [],
   "source": []
  }
 ],
 "metadata": {
  "kernelspec": {
   "display_name": "Python 3",
   "language": "python",
   "name": "python3"
  },
  "language_info": {
   "codemirror_mode": {
    "name": "ipython",
    "version": 3
   },
   "file_extension": ".py",
   "mimetype": "text/x-python",
   "name": "python",
   "nbconvert_exporter": "python",
   "pygments_lexer": "ipython3",
   "version": "3.7.6"
  }
 },
 "nbformat": 4,
 "nbformat_minor": 4
}
