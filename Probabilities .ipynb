{
 "cells": [
  {
   "cell_type": "code",
   "execution_count": 1,
   "metadata": {},
   "outputs": [
    {
     "name": "stdout",
     "output_type": "stream",
     "text": [
      "120\n"
     ]
    }
   ],
   "source": [
    "import math \n",
    "print(math.factorial(5))"
   ]
  },
  {
   "cell_type": "code",
   "execution_count": 2,
   "metadata": {},
   "outputs": [],
   "source": [
    "def npr(n, r):\n",
    "    return math.factorial(n)/math.factorial(n-r)\n",
    "def ncr(n, r):\n",
    "    return math.factorial(n)/(math.factorial(n-r)*math.factorial(r))"
   ]
  },
  {
   "cell_type": "code",
   "execution_count": 3,
   "metadata": {},
   "outputs": [
    {
     "name": "stdout",
     "output_type": "stream",
     "text": [
      "20.0 10.0\n"
     ]
    }
   ],
   "source": [
    "print(npr(5,2), ncr(5,2))"
   ]
  },
  {
   "cell_type": "markdown",
   "metadata": {},
   "source": [
    "# Binomial distribution "
   ]
  },
  {
   "cell_type": "code",
   "execution_count": 8,
   "metadata": {},
   "outputs": [
    {
     "name": "stdout",
     "output_type": "stream",
     "text": [
      "enter the number of trials: 10\n",
      "enter the number for a specific outcome within n trials: 2\n",
      "enter the probability of success in a single trial: 0.5\n",
      "0.0439453125\n"
     ]
    }
   ],
   "source": [
    "n = int(input('enter the number of trials: '))\n",
    "x = int(input('enter the number for a specific outcome within n trials: '))\n",
    "p = float(input('enter the probability of success in a single trial: '))\n",
    "q = 1-p\n",
    "P = ncr(n,x) * (p**x) * (q**(n-x))\n",
    "print(P)"
   ]
  },
  {
   "cell_type": "markdown",
   "metadata": {},
   "source": [
    "### "
   ]
  },
  {
   "cell_type": "markdown",
   "metadata": {},
   "source": [
    "# Poisson distribution "
   ]
  },
  {
   "cell_type": "code",
   "execution_count": 4,
   "metadata": {},
   "outputs": [
    {
     "name": "stdout",
     "output_type": "stream",
     "text": [
      "enter the number of successes15\n"
     ]
    },
    {
     "data": {
      "text/plain": [
       "0.034718069630684134"
      ]
     },
     "execution_count": 4,
     "metadata": {},
     "output_type": "execute_result"
    }
   ],
   "source": [
    "# poisson distribution\n",
    "r = int(input('enter the number of successes'))\n",
    "e = math.e \n",
    "z = 10\n",
    "p_r = ((z**r) * (e**(-z))) / math.factorial(r)\n",
    "p_r"
   ]
  },
  {
   "cell_type": "markdown",
   "metadata": {},
   "source": [
    "### less, less or equal, greater, greater or equal"
   ]
  },
  {
   "cell_type": "code",
   "execution_count": 7,
   "metadata": {},
   "outputs": [
    {
     "name": "stdout",
     "output_type": "stream",
     "text": [
      "enter the Z: 10\n",
      "enter the less than value: 5\n",
      "the less than value is: 0.02925268807696109\n",
      "the less than or equal to value is: 0.06708596287903182\n",
      "the greater than value is: 0.9329140371209682\n",
      "the greater than or equal to value is: 0.9707473119230389\n"
     ]
    }
   ],
   "source": [
    "# for less than problems \n",
    "\n",
    "def less_than(x):\n",
    "    l1 = [ ]\n",
    "    for r in range(x):\n",
    "        ans = ((z**r) * (e**(-z))) / math.factorial(r)\n",
    "        l1.append(ans)\n",
    "        r = r + 1\n",
    "    sum = 0 \n",
    "    for i in l1:\n",
    "        sum = sum + i\n",
    "    return sum \n",
    "\n",
    "\n",
    "# n = int(input('enter the number of trials: '))\n",
    "# p = float(input('enter the probability of success in a single trial: '))\n",
    "# r = int(input('enter the number of successes'))\n",
    "e = math.e \n",
    "# z = n*p\n",
    "\n",
    "z = float(input(\"enter the Z: \"))\n",
    "x = int(input(\"enter the less than value: \"))\n",
    "\n",
    "print(\"the less than value is: {}\".format(less_than(x)))\n",
    "print(\"the less than or equal to value is: {}\".format(less_than(x+1)))\n",
    "print(\"the greater than value is: {}\".format(1 - less_than(x+1)))\n",
    "print('the greater than or equal to value is: {}'.format(1 - less_than(x)))"
   ]
  },
  {
   "cell_type": "markdown",
   "metadata": {},
   "source": [
    "\n"
   ]
  },
  {
   "cell_type": "code",
   "execution_count": 6,
   "metadata": {},
   "outputs": [
    {
     "name": "stdout",
     "output_type": "stream",
     "text": [
      "147.12\n",
      "147.12\n",
      "73.56\n",
      "24.52\n",
      "6.12\n",
      "1.2\n"
     ]
    }
   ],
   "source": [
    "l = [0.3678, 0.3678, 0.1839, 0.0613, 0.0153, 0.0030]\n",
    "for i in l:\n",
    "    print(i*400)"
   ]
  },
  {
   "cell_type": "code",
   "execution_count": null,
   "metadata": {},
   "outputs": [],
   "source": []
  },
  {
   "cell_type": "code",
   "execution_count": null,
   "metadata": {},
   "outputs": [],
   "source": []
  },
  {
   "cell_type": "code",
   "execution_count": null,
   "metadata": {},
   "outputs": [],
   "source": []
  },
  {
   "cell_type": "code",
   "execution_count": null,
   "metadata": {},
   "outputs": [],
   "source": []
  },
  {
   "cell_type": "code",
   "execution_count": null,
   "metadata": {},
   "outputs": [],
   "source": []
  },
  {
   "cell_type": "code",
   "execution_count": null,
   "metadata": {},
   "outputs": [],
   "source": []
  }
 ],
 "metadata": {
  "kernelspec": {
   "display_name": "Python 3",
   "language": "python",
   "name": "python3"
  },
  "language_info": {
   "codemirror_mode": {
    "name": "ipython",
    "version": 3
   },
   "file_extension": ".py",
   "mimetype": "text/x-python",
   "name": "python",
   "nbconvert_exporter": "python",
   "pygments_lexer": "ipython3",
   "version": "3.7.9"
  }
 },
 "nbformat": 4,
 "nbformat_minor": 4
}
