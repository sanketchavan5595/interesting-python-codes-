{
 "cells": [
  {
   "cell_type": "code",
   "execution_count": 1,
   "metadata": {},
   "outputs": [
    {
     "name": "stdout",
     "output_type": "stream",
     "text": [
      "enter the coefficient of x^2: 1\n",
      "enter the coefficient of x:2\n",
      "enter the constant: 1\n",
      "the roots are real and equal\n",
      "the first root is: -1.0\n",
      "the second root is: -1.0\n"
     ]
    }
   ],
   "source": [
    "# function for finding the roots\n",
    "\n",
    "import math as mt\n",
    "\n",
    "# defining the discriminant\n",
    "def discriminant(m,n,l):\n",
    "    d= n*n - 4*m*l\n",
    "    if int(d)<0:\n",
    "        print('the roots are imaginary')\n",
    "    elif int(d)==0:\n",
    "        print('the roots are real and equal')\n",
    "    else:\n",
    "        print('the roots are distinct and real')\n",
    "        \n",
    "# finding the roots based on discriminants\n",
    "def roots(a,b,c):\n",
    "    discriminant(a,b,c)\n",
    "    x1 = (-b + mt.sqrt(b*b-4*a*c))/2*a\n",
    "    x2 = (-b - mt.sqrt(b*b-4*a*c))/2*a\n",
    "    print('the first root is: '+str(x1))\n",
    "    print('the second root is: '+str(x2))    \n",
    "\n",
    "# enter the digits \n",
    "u= int(input('enter the coefficient of x^2: '))\n",
    "v= int(input('enter the coefficient of x:'))\n",
    "w= int(input('enter the constant: '))\n",
    "\n",
    "# calling the function \n",
    "roots(u,v,w)"
   ]
  },
  {
   "cell_type": "code",
   "execution_count": null,
   "metadata": {},
   "outputs": [],
   "source": []
  }
 ],
 "metadata": {
  "kernelspec": {
   "display_name": "Python 3",
   "language": "python",
   "name": "python3"
  },
  "language_info": {
   "codemirror_mode": {
    "name": "ipython",
    "version": 3
   },
   "file_extension": ".py",
   "mimetype": "text/x-python",
   "name": "python",
   "nbconvert_exporter": "python",
   "pygments_lexer": "ipython3",
   "version": "3.7.6"
  }
 },
 "nbformat": 4,
 "nbformat_minor": 4
}
