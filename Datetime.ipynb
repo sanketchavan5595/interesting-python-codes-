{
 "cells": [
  {
   "cell_type": "code",
   "execution_count": 1,
   "metadata": {},
   "outputs": [],
   "source": [
    "import datetime\n",
    "import pytz"
   ]
  },
  {
   "cell_type": "markdown",
   "metadata": {},
   "source": [
    "**There is another module named 'arrow' which is also used to handle the dates and times.**\n",
    "\n",
    "**it is already installed**"
   ]
  },
  {
   "cell_type": "markdown",
   "metadata": {},
   "source": [
    "### getting the date"
   ]
  },
  {
   "cell_type": "code",
   "execution_count": 2,
   "metadata": {},
   "outputs": [
    {
     "name": "stdout",
     "output_type": "stream",
     "text": [
      "2021-02-27\n"
     ]
    }
   ],
   "source": [
    "d = datetime.date(2021, 2, 27) # no need to pass zero before single digit dates\n",
    "print(d)"
   ]
  },
  {
   "cell_type": "code",
   "execution_count": 3,
   "metadata": {},
   "outputs": [
    {
     "name": "stdout",
     "output_type": "stream",
     "text": [
      "2021-02-27\n",
      "2021\n",
      "27\n",
      "2\n",
      "5\n"
     ]
    }
   ],
   "source": [
    "# getting today's date\n",
    "\n",
    "today = datetime.date.today()\n",
    "print(today)\n",
    "\n",
    "# getting year \n",
    "print(today.year)\n",
    "\n",
    "# getting the day \n",
    "print(today.day)\n",
    "\n",
    "# getting the month\n",
    "print(today.month)\n",
    "\n",
    "# getting the weekday \n",
    "print(today.weekday())"
   ]
  },
  {
   "cell_type": "markdown",
   "metadata": {},
   "source": [
    "### timedelta"
   ]
  },
  {
   "cell_type": "code",
   "execution_count": 4,
   "metadata": {},
   "outputs": [
    {
     "name": "stdout",
     "output_type": "stream",
     "text": [
      "2021-03-06\n",
      "2021-02-20\n"
     ]
    }
   ],
   "source": [
    "time_delta = datetime.timedelta(days = 7)\n",
    "\n",
    "# getting the date 7 days from today \n",
    "print(today + time_delta)\n",
    "\n",
    "# getting the date 7 days ago \n",
    "print(today - time_delta)"
   ]
  },
  {
   "cell_type": "code",
   "execution_count": 5,
   "metadata": {},
   "outputs": [
    {
     "name": "stdout",
     "output_type": "stream",
     "text": [
      "12\n",
      "1036800.0\n"
     ]
    }
   ],
   "source": [
    "# getting the number of days between two dates\n",
    "birth_day = datetime.date(2021, 3,11)\n",
    "days_remaining = birth_day - today\n",
    "\n",
    "# days \n",
    "print(days_remaining.days)\n",
    "\n",
    "# seconds \n",
    "print(days_remaining.total_seconds())"
   ]
  },
  {
   "cell_type": "markdown",
   "metadata": {},
   "source": [
    "### time \n",
    "involves hours, minutes, seconds and microseconds"
   ]
  },
  {
   "cell_type": "code",
   "execution_count": 6,
   "metadata": {},
   "outputs": [
    {
     "name": "stdout",
     "output_type": "stream",
     "text": [
      "12:15:20\n",
      "12\n",
      "15\n"
     ]
    }
   ],
   "source": [
    "time = datetime.time(12,15,20,0) # hrs, min, secs, microsecs \n",
    "print(time)\n",
    "\n",
    "# hour \n",
    "print(time.hour)\n",
    "\n",
    "# minute\n",
    "print(time.minute)"
   ]
  },
  {
   "cell_type": "markdown",
   "metadata": {},
   "source": [
    "### datetime.datetime\n",
    "takes year, month, day, hours, minutes, seconds, microseconds\n",
    "```\n",
    "datetime.datetime()\n",
    "```"
   ]
  },
  {
   "cell_type": "code",
   "execution_count": 7,
   "metadata": {},
   "outputs": [
    {
     "name": "stdout",
     "output_type": "stream",
     "text": [
      "2021-02-26 12:15:20\n",
      "2021-02-26\n",
      "12:15:20\n",
      "2021\n"
     ]
    }
   ],
   "source": [
    "dt = datetime.datetime(2021, 2, 26, 12,15,20,0)\n",
    "print(dt)\n",
    "\n",
    "# getting the date \n",
    "print(dt.date())\n",
    "\n",
    "# getting the time \n",
    "print(dt.time())\n",
    "\n",
    "# you can also get individual attributes. \n",
    "# for e.g \n",
    "print(dt.year)"
   ]
  },
  {
   "cell_type": "code",
   "execution_count": 8,
   "metadata": {},
   "outputs": [
    {
     "name": "stdout",
     "output_type": "stream",
     "text": [
      "2021-03-09 08:15:20\n"
     ]
    }
   ],
   "source": [
    "# using the timedelta with datetime.datetime\n",
    "\n",
    "time_delta = datetime.timedelta(days = 10, hours = 20)\n",
    "print(dt + time_delta)"
   ]
  },
  {
   "cell_type": "code",
   "execution_count": 9,
   "metadata": {},
   "outputs": [
    {
     "name": "stdout",
     "output_type": "stream",
     "text": [
      "2021-02-27 17:11:07.837205\n",
      "2021-02-27 17:11:07.837204\n",
      "2021-02-27 11:41:07.837204\n"
     ]
    }
   ],
   "source": [
    "# additional datetime functions \n",
    "dt_today = datetime.datetime.today() \n",
    "dt_now = datetime.datetime.now()\n",
    "dt_utcnow = datetime.datetime.utcnow()\n",
    "\n",
    "print(dt_today)\n",
    "print(dt_now)\n",
    "print(dt_utcnow)"
   ]
  },
  {
   "cell_type": "code",
   "execution_count": 10,
   "metadata": {},
   "outputs": [
    {
     "name": "stdout",
     "output_type": "stream",
     "text": [
      "2021-02-26 12:15:20+00:00\n"
     ]
    }
   ],
   "source": [
    "# using pytz  \n",
    "dt = datetime.datetime(2021,2,26,12,15,20,0, tzinfo = pytz.UTC)\n",
    "print(dt)"
   ]
  },
  {
   "cell_type": "code",
   "execution_count": 16,
   "metadata": {},
   "outputs": [
    {
     "name": "stdout",
     "output_type": "stream",
     "text": [
      "2021-02-27 11:43:24.735876+00:00\n"
     ]
    }
   ],
   "source": [
    "dt_now = datetime.datetime.now(tz = pytz.UTC)\n",
    "print(dt_now)"
   ]
  },
  {
   "cell_type": "code",
   "execution_count": 17,
   "metadata": {},
   "outputs": [
    {
     "name": "stdout",
     "output_type": "stream",
     "text": [
      "2021-02-27 17:13:24.735876+05:30\n"
     ]
    }
   ],
   "source": [
    "# getting the date as per the time zone \n",
    "dt_time_zone = dt_now.astimezone(pytz.timezone('Asia/Calcutta'))\n",
    "print(dt_time_zone)"
   ]
  },
  {
   "cell_type": "code",
   "execution_count": 18,
   "metadata": {},
   "outputs": [],
   "source": [
    "# run the following codes to get the time zone names \n",
    "\n",
    "# for time_zones in pytz.all_timezones:\n",
    "#     print(time_zones)"
   ]
  },
  {
   "cell_type": "code",
   "execution_count": 19,
   "metadata": {},
   "outputs": [
    {
     "name": "stdout",
     "output_type": "stream",
     "text": [
      "2021-02-27 17:13:53.933489\n"
     ]
    }
   ],
   "source": [
    "# getting the current time \n",
    "current_time = datetime.datetime.now()\n",
    "print(current_time)"
   ]
  },
  {
   "cell_type": "code",
   "execution_count": 22,
   "metadata": {},
   "outputs": [
    {
     "name": "stdout",
     "output_type": "stream",
     "text": [
      "2021-02-27 17:16:21.256218+05:30\n"
     ]
    }
   ],
   "source": [
    "# converting naive time to timezone aware time \n",
    "time_zone_aware = pytz.timezone('Asia/Calcutta')\n",
    "dt_local = time_zone_aware.localize(dt_local)\n",
    "print(dt_local)"
   ]
  },
  {
   "cell_type": "code",
   "execution_count": 28,
   "metadata": {},
   "outputs": [
    {
     "name": "stdout",
     "output_type": "stream",
     "text": [
      "27 February, 2021\n"
     ]
    }
   ],
   "source": [
    "# getting string from datetime\n",
    "print(dt_local.strftime('%d %B, %Y'))"
   ]
  },
  {
   "cell_type": "code",
   "execution_count": 29,
   "metadata": {},
   "outputs": [
    {
     "name": "stdout",
     "output_type": "stream",
     "text": [
      "2021-02-27 00:00:00\n"
     ]
    }
   ],
   "source": [
    "# getting the datetime from the strings \n",
    "dt = datetime.datetime.strptime('27 February, 2021','%d %B, %Y')\n",
    "print(dt)"
   ]
  },
  {
   "cell_type": "code",
   "execution_count": null,
   "metadata": {},
   "outputs": [],
   "source": []
  }
 ],
 "metadata": {
  "kernelspec": {
   "display_name": "Python 3",
   "language": "python",
   "name": "python3"
  },
  "language_info": {
   "codemirror_mode": {
    "name": "ipython",
    "version": 3
   },
   "file_extension": ".py",
   "mimetype": "text/x-python",
   "name": "python",
   "nbconvert_exporter": "python",
   "pygments_lexer": "ipython3",
   "version": "3.7.9"
  }
 },
 "nbformat": 4,
 "nbformat_minor": 4
}
