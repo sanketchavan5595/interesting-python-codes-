{
 "cells": [
  {
   "cell_type": "code",
   "execution_count": 1,
   "metadata": {},
   "outputs": [
    {
     "name": "stdout",
     "output_type": "stream",
     "text": [
      "Starting the Rock Paper Scissors game!\n",
      "Please enter your name: sanket\n",
      "Pick a hand: (0: Rock, 1: Paper, 2: Scissors)\n",
      "Please enter a number (0-2): 1\n",
      "sanket picked: Paper\n",
      "Computer picked: Paper\n",
      "Result: Draw\n"
     ]
    }
   ],
   "source": [
    "# define a function where it will return false value if the input is more than 2 or less than 0\n",
    "def validate(hand):\n",
    "    if hand < 0 or hand > 2:\n",
    "        return False\n",
    "    return True\n",
    "\n",
    "# a function to choose values between rock paper and scissor\n",
    "def print_hand(hand, name='Guest'):\n",
    "    hands = ['Rock', 'Paper', 'Scissors']\n",
    "    print(name + ' picked: ' + hands[hand])\n",
    "\n",
    "# Define the judge function\n",
    "def judge(player,computer):\n",
    "    # Add control flow based on the comparison of player and computer\n",
    "    if player==computer:\n",
    "        return \"Draw\"\n",
    "    elif player==0 and computer==1:\n",
    "        return \"Lose\"\n",
    "    elif player==1 and computer==2:\n",
    "        return \"Lose\"\n",
    "    elif player==2 and computer==0:\n",
    "        return \"Lose\"\n",
    "    else:\n",
    "        return \"Win\"\n",
    "        \n",
    "   \n",
    "    \n",
    "\n",
    "print('Starting the Rock Paper Scissors game!')\n",
    "player_name = input('Please enter your name: ')\n",
    "\n",
    "print('Pick a hand: (0: Rock, 1: Paper, 2: Scissors)')\n",
    "player_hand = int(input('Please enter a number (0-2): '))\n",
    "\n",
    "if validate(player_hand):\n",
    "    computer_hand = 1\n",
    "    \n",
    "    print_hand(player_hand, player_name)\n",
    "    print_hand(computer_hand, 'Computer')\n",
    "    \n",
    "    # Assign the return value of judge to the result variable\n",
    "    result= judge(player_hand, computer_hand)\n",
    "    # Print the result variable\n",
    "    print('Result: '+result)\n",
    "else:\n",
    "    print('Please enter a valid number')\n"
   ]
  },
  {
   "cell_type": "code",
   "execution_count": null,
   "metadata": {},
   "outputs": [],
   "source": []
  },
  {
   "cell_type": "code",
   "execution_count": null,
   "metadata": {},
   "outputs": [],
   "source": []
  }
 ],
 "metadata": {
  "kernelspec": {
   "display_name": "Python 3",
   "language": "python",
   "name": "python3"
  },
  "language_info": {
   "codemirror_mode": {
    "name": "ipython",
    "version": 3
   },
   "file_extension": ".py",
   "mimetype": "text/x-python",
   "name": "python",
   "nbconvert_exporter": "python",
   "pygments_lexer": "ipython3",
   "version": "3.7.6"
  }
 },
 "nbformat": 4,
 "nbformat_minor": 4
}
