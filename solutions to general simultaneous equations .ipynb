{
 "cells": [
  {
   "cell_type": "code",
   "execution_count": null,
   "metadata": {},
   "outputs": [],
   "source": [
    "# the equations should be of the following form:\n",
    "# ax + by = c\n",
    "# px + qy = r\n",
    "\n",
    "print(\"for the first equation: \\n\")\n",
    "a = int(input(\"enter the value of a: \"))\n",
    "b = int(input(\"enter the value of b: \"))\n",
    "c = int(input(\"enter the value of c: \"))\n",
    "\n",
    "print(\"for the second equation: \\n\")\n",
    "p = int(input(\"enter the value of p: \"))\n",
    "q = int(input(\"enter the value of q: \"))\n",
    "r = int(input(\"enter the value of r: \"))\n",
    "\n",
    "x = ((b*r) - (c*q)) / ((b*p) - (a*q))\n",
    "y = ((c*p) - (a*r)) / ((b*p) - (a*q))\n",
    "\n",
    "print(\"The solution to the equation is: \")\n",
    "print(\"x = {} \\ny = {} \".format(x,y))"
   ]
  },
  {
   "cell_type": "code",
   "execution_count": null,
   "metadata": {},
   "outputs": [],
   "source": []
  }
 ],
 "metadata": {
  "kernelspec": {
   "display_name": "Python 3",
   "language": "python",
   "name": "python3"
  },
  "language_info": {
   "codemirror_mode": {
    "name": "ipython",
    "version": 3
   },
   "file_extension": ".py",
   "mimetype": "text/x-python",
   "name": "python",
   "nbconvert_exporter": "python",
   "pygments_lexer": "ipython3",
   "version": "3.7.9"
  }
 },
 "nbformat": 4,
 "nbformat_minor": 4
}
