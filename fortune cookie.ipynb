{
 "cells": [
  {
   "cell_type": "code",
   "execution_count": null,
   "metadata": {},
   "outputs": [],
   "source": [
    "# how fortunate you are\n",
    "import random as rdm\n",
    "def lucks(x):\n",
    "    if x==1:\n",
    "        print('you will succeed')\n",
    "    elif x==2:\n",
    "        print('you will fail')\n",
    "    elif x==3:\n",
    "        print('you are very good person')\n",
    "    elif x==4:\n",
    "        print('you are very bad person')\n",
    "    else:\n",
    "        print('your luck is as dark as your eyes')\n",
    "l= rdm.randint(1,5)\n",
    "fortune=lucks(l)\n",
    "print(fortune)"
   ]
  },
  {
   "cell_type": "code",
   "execution_count": null,
   "metadata": {},
   "outputs": [],
   "source": []
  },
  {
   "cell_type": "code",
   "execution_count": null,
   "metadata": {},
   "outputs": [],
   "source": []
  }
 ],
 "metadata": {
  "kernelspec": {
   "display_name": "Python 3",
   "language": "python",
   "name": "python3"
  },
  "language_info": {
   "codemirror_mode": {
    "name": "ipython",
    "version": 3
   },
   "file_extension": ".py",
   "mimetype": "text/x-python",
   "name": "python",
   "nbconvert_exporter": "python",
   "pygments_lexer": "ipython3",
   "version": "3.7.6"
  }
 },
 "nbformat": 4,
 "nbformat_minor": 4
}
