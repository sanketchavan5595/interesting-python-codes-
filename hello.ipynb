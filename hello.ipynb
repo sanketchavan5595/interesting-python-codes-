{
  "nbformat": 4,
  "nbformat_minor": 0,
  "metadata": {
    "kernelspec": {
      "display_name": "Python 3",
      "language": "python",
      "name": "python3"
    },
    "language_info": {
      "codemirror_mode": {
        "name": "ipython",
        "version": 3
      },
      "file_extension": ".py",
      "mimetype": "text/x-python",
      "name": "python",
      "nbconvert_exporter": "python",
      "pygments_lexer": "ipython3",
      "version": "3.7.9"
    },
    "colab": {
      "name": "hello.ipynb",
      "provenance": [],
      "include_colab_link": true
    }
  },
  "cells": [
    {
      "cell_type": "markdown",
      "metadata": {
        "id": "view-in-github",
        "colab_type": "text"
      },
      "source": [
        "<a href=\"https://colab.research.google.com/github/sanketchavan5595/interesting-python-codes-/blob/master/hello.ipynb\" target=\"_parent\"><img src=\"https://colab.research.google.com/assets/colab-badge.svg\" alt=\"Open In Colab\"/></a>"
      ]
    },
    {
      "cell_type": "code",
      "metadata": {
        "id": "6Wh8g8fcHLNS"
      },
      "source": [
        "import pandas as pd \r\n",
        "import numpy as np \r\n",
        "import matplotlib.pyplot as plt "
      ],
      "execution_count": 3,
      "outputs": []
    },
    {
      "cell_type": "code",
      "metadata": {
        "id": "Eo5ci9ztHLNc",
        "outputId": "bb436d05-a12a-4029-ac46-afbd6e636749",
        "colab": {
          "base_uri": "https://localhost:8080/"
        }
      },
      "source": [
        "x = list(np.arange(1,21))\r\n",
        "x"
      ],
      "execution_count": 4,
      "outputs": [
        {
          "output_type": "execute_result",
          "data": {
            "text/plain": [
              "[1, 2, 3, 4, 5, 6, 7, 8, 9, 10, 11, 12, 13, 14, 15, 16, 17, 18, 19, 20]"
            ]
          },
          "metadata": {
            "tags": []
          },
          "execution_count": 4
        }
      ]
    },
    {
      "cell_type": "code",
      "metadata": {
        "id": "ehflGV1THXeE",
        "outputId": "6629fbd4-05f4-4528-ddd5-21496999682b",
        "colab": {
          "base_uri": "https://localhost:8080/"
        }
      },
      "source": [
        "x_log = list(np.log10(x))\r\n",
        "x_log"
      ],
      "execution_count": 6,
      "outputs": [
        {
          "output_type": "execute_result",
          "data": {
            "text/plain": [
              "[0.0,\n",
              " 0.3010299956639812,\n",
              " 0.47712125471966244,\n",
              " 0.6020599913279624,\n",
              " 0.6989700043360189,\n",
              " 0.7781512503836436,\n",
              " 0.8450980400142568,\n",
              " 0.9030899869919435,\n",
              " 0.9542425094393249,\n",
              " 1.0,\n",
              " 1.041392685158225,\n",
              " 1.0791812460476249,\n",
              " 1.1139433523068367,\n",
              " 1.146128035678238,\n",
              " 1.1760912590556813,\n",
              " 1.2041199826559248,\n",
              " 1.2304489213782739,\n",
              " 1.255272505103306,\n",
              " 1.2787536009528289,\n",
              " 1.3010299956639813]"
            ]
          },
          "metadata": {
            "tags": []
          },
          "execution_count": 6
        }
      ]
    },
    {
      "cell_type": "code",
      "metadata": {
        "id": "2wUUDnh-ISWw",
        "outputId": "a83d488b-8a2f-496c-b60a-0726faab8cd7",
        "colab": {
          "base_uri": "https://localhost:8080/"
        }
      },
      "source": [
        "min_log = [(1- np.log(i+1))/np.log(i+1) for i in x]\r\n",
        "min_log"
      ],
      "execution_count": 12,
      "outputs": [
        {
          "output_type": "execute_result",
          "data": {
            "text/plain": [
              "[0.44269504088896344,\n",
              " -0.08976077337316268,\n",
              " -0.27865247955551825,\n",
              " -0.37866506544038814,\n",
              " -0.44188937344875273,\n",
              " -0.48610165763024926,\n",
              " -0.5191016530370122,\n",
              " -0.5448803866865813,\n",
              " -0.5657055180967482,\n",
              " -0.5829676085757537,\n",
              " -0.5975703956181554,\n",
              " -0.61012875474872,\n",
              " -0.6210768183100488,\n",
              " -0.6307306269311449,\n",
              " -0.6393262397777592,\n",
              " -0.6470438761352388,\n",
              " -0.6540237437388065,\n",
              " -0.6603767281048913,\n",
              " -0.6661917993046659,\n",
              " -0.6715412612469489]"
            ]
          },
          "metadata": {
            "tags": []
          },
          "execution_count": 12
        }
      ]
    },
    {
      "cell_type": "code",
      "metadata": {
        "id": "4zqdzWKcH7Md",
        "outputId": "df7cbc5a-10e7-42ec-f4f0-8b62699e0f8e",
        "colab": {
          "base_uri": "https://localhost:8080/",
          "height": 265
        }
      },
      "source": [
        "\r\n",
        "plt.plot(x_log, color = 'blue');\r\n",
        "plt.plot(min_log, color = 'black');"
      ],
      "execution_count": 14,
      "outputs": [
        {
          "output_type": "display_data",
          "data": {
            "image/png": "[encoded data removed]",
            "text/plain": [
              "<Figure size 432x288 with 1 Axes>"
            ]
          },
          "metadata": {
            "tags": [],
            "needs_background": "light"
          }
        }
      ]
    },
    {
      "cell_type": "code",
      "metadata": {
        "id": "IiNK58OEIFc3"
      },
      "source": [
        ""
      ],
      "execution_count": null,
      "outputs": []
    }
  ]
}