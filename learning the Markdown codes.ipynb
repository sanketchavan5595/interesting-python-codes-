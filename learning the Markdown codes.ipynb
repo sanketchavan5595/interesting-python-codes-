{
 "cells": [
  {
   "cell_type": "markdown",
   "metadata": {},
   "source": [
    "# markdown heading \n",
    "this is a line. **this is a bold text**. \n",
    "this is a new line. *this is itallic text*.\n",
    "\n",
    "---\n",
    "three dashes means horizontal lines\n",
    "#### list one \n",
    "- list item one\n",
    "    1. nested list one \n",
    "    2. nested list two \n",
    "- list item two \n",
    "#### list two \n",
    "1. numbered list one\n",
    "2. numbered list two\n",
    "\n",
    "### learning the markdown codes. \n",
    "\n",
    "---\n",
    "#### inserting a link \n",
    "* there are two kinds brackets used. \n",
    "    1. round brackets: for inserting the link\n",
    "    2. square brackets : for the text which is to me clicked \n",
    "* here is an examples\n",
    "\n",
    "[ click here to go to an interesting python notebook](http://localhost:8888/notebooks/cube.ipynb)\n",
    "\n",
    "**important note: there should not be any spaces between the square and round bracket**\n",
    "\n",
    "---\n",
    "#### inserting the images\n",
    "* it is same as the inserting the link. \n",
    "* the only difference is that you have to put the ! symbol before the square bracket. \n",
    "* lets try it out \n",
    "* **this is the image of the captain america**\n",
    "![this is an image](captain.jpg)\n",
    "\n",
    "**important note: if the image is available in the computer, then you have to mention the path of that image.**\n",
    "\n",
    "---\n",
    "#### how to insert the code samples: \n",
    "```\n",
    "print(\"hello world\")\n",
    "```\n",
    "**the code above will give the output as hello world.**\n",
    "- now i will write a code inside a line. we will print \"hi\" by using the code `print(\"hi\")`\n",
    "\n",
    "\n",
    "**important note:cyou will find the back-tick button just above the Tab button on your keyboard**\n",
    "\n",
    "---\n",
    "\n",
    "#### the task lists \n",
    "**this syntax is - [ ] and type the text after that.** \n",
    "- [ ] learn the markdown code \n",
    "- [ ] watch the polarr videos \n",
    "- [ ] watch neso academy videos for the DELD exam \n",
    "- [x] this is the completed task. \n",
    "\n",
    "**important note:**\n",
    "- you can use html elements while writing the markdown code. \n",
    "\n",
    "\n",
    "\n",
    "\n",
    "\n",
    "\n",
    "\n",
    "\n"
   ]
  },
  {
   "cell_type": "code",
   "execution_count": null,
   "metadata": {},
   "outputs": [],
   "source": [
    "\n"
   ]
  }
 ],
 "metadata": {
  "kernelspec": {
   "display_name": "Python 3",
   "language": "python",
   "name": "python3"
  },
  "language_info": {
   "codemirror_mode": {
    "name": "ipython",
    "version": 3
   },
   "file_extension": ".py",
   "mimetype": "text/x-python",
   "name": "python",
   "nbconvert_exporter": "python",
   "pygments_lexer": "ipython3",
   "version": "3.7.6"
  }
 },
 "nbformat": 4,
 "nbformat_minor": 4
}
