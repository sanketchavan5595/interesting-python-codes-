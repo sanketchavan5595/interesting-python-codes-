{
 "cells": [
  {
   "cell_type": "code",
   "execution_count": 1,
   "metadata": {},
   "outputs": [
    {
     "name": "stdout",
     "output_type": "stream",
     "text": [
      "10\n"
     ]
    }
   ],
   "source": [
    "print(10)"
   ]
  },
  {
   "cell_type": "code",
   "execution_count": 1,
   "metadata": {},
   "outputs": [
    {
     "ename": "IndexError",
     "evalue": "list index out of range",
     "output_type": "error",
     "traceback": [
      "\u001b[1;31m---------------------------------------------------------------------------\u001b[0m",
      "\u001b[1;31mIndexError\u001b[0m                                Traceback (most recent call last)",
      "\u001b[1;32m<ipython-input-1-f7589085afa2>\u001b[0m in \u001b[0;36m<module>\u001b[1;34m\u001b[0m\n\u001b[0;32m      7\u001b[0m \u001b[0mx\u001b[0m \u001b[1;33m=\u001b[0m \u001b[1;36m0\u001b[0m\u001b[1;33m\u001b[0m\u001b[1;33m\u001b[0m\u001b[0m\n\u001b[0;32m      8\u001b[0m \u001b[1;32mfor\u001b[0m \u001b[0meachname\u001b[0m \u001b[1;32min\u001b[0m \u001b[0mnames\u001b[0m\u001b[1;33m:\u001b[0m\u001b[1;33m\u001b[0m\u001b[1;33m\u001b[0m\u001b[0m\n\u001b[1;32m----> 9\u001b[1;33m     \u001b[0mageDict\u001b[0m\u001b[1;33m[\u001b[0m\u001b[0meachname\u001b[0m\u001b[1;33m]\u001b[0m \u001b[1;33m=\u001b[0m \u001b[0mages\u001b[0m\u001b[1;33m[\u001b[0m\u001b[0mx\u001b[0m\u001b[1;33m]\u001b[0m\u001b[1;33m\u001b[0m\u001b[1;33m\u001b[0m\u001b[0m\n\u001b[0m\u001b[0;32m     10\u001b[0m     \u001b[0mx\u001b[0m \u001b[1;33m=\u001b[0m \u001b[0mx\u001b[0m \u001b[1;33m+\u001b[0m \u001b[1;36m1\u001b[0m\u001b[1;33m\u001b[0m\u001b[1;33m\u001b[0m\u001b[0m\n\u001b[0;32m     11\u001b[0m \u001b[0mprint\u001b[0m\u001b[1;33m(\u001b[0m\u001b[0mageDict\u001b[0m\u001b[1;33m)\u001b[0m\u001b[1;33m\u001b[0m\u001b[1;33m\u001b[0m\u001b[0m\n",
      "\u001b[1;31mIndexError\u001b[0m: list index out of range"
     ]
    }
   ],
   "source": [
    "import re\n",
    "nameage= '''Janice is 22 and Theon is 33\n",
    "Gabriel is 44 and Joey is 21'''\n",
    "ages = re.findall(r'\\d(1,3)',nameage)\n",
    "names = re.findall(r'[A-Z][a-z]*', nameage)\n",
    "ageDict = {}\n",
    "x = 0\n",
    "for eachname in names:\n",
    "    ageDict[eachname] = ages[x]\n",
    "    x = x + 1\n",
    "print(ageDict)"
   ]
  },
  {
   "cell_type": "code",
   "execution_count": 2,
   "metadata": {},
   "outputs": [
    {
     "name": "stdout",
     "output_type": "stream",
     "text": [
      "['inform', 'inform']\n",
      "the word inform is present\n"
     ]
    }
   ],
   "source": [
    "# how to find a word in a string\n",
    "string = \"we need to inform him with the latest information\"\n",
    "allinform = re.findall(\"inform\", string)\n",
    "print(allinform)\n",
    "if re.search(\"inform\", string):\n",
    "    print(\"the word inform is present\")\n",
    "else:\n",
    "    print(\"it is not present\")"
   ]
  },
  {
   "cell_type": "code",
   "execution_count": 3,
   "metadata": {},
   "outputs": [
    {
     "name": "stdout",
     "output_type": "stream",
     "text": [
      "(11, 17)\n",
      "(38, 44)\n"
     ]
    }
   ],
   "source": [
    "# how to generate an iterator\n",
    "# returns the starting and the ending index of the matching word\n",
    "string = \"we need to inform him with the latest information\"\n",
    "for i in re.finditer(\"inform\", string):\n",
    "    loctup= i.span()\n",
    "    print(loctup)"
   ]
  },
  {
   "cell_type": "code",
   "execution_count": 4,
   "metadata": {},
   "outputs": [
    {
     "name": "stdout",
     "output_type": "stream",
     "text": [
      "['sat', 'hat', 'mat', 'pat']\n"
     ]
    }
   ],
   "source": [
    "# matching words with a particular pattern\n",
    "string= \"sat, hat, mat, pat, timepass, at, taste, etc\"\n",
    "allstr = re.findall(\"[shmp]at\", string)\n",
    "print(allstr)\n"
   ]
  },
  {
   "cell_type": "code",
   "execution_count": 5,
   "metadata": {},
   "outputs": [
    {
     "name": "stdout",
     "output_type": "stream",
     "text": [
      "['hat', 'mat']\n",
      "['sat', 'hat', 'mat', 'pat']\n",
      "['sat', 'pat', ' at']\n"
     ]
    }
   ],
   "source": [
    "# match series of range of characters\n",
    "string= \"sat, hat, mat, pat, timepass, at, taste, etc\"\n",
    "allstr = re.findall(\"[h-m]at\", string)\n",
    "print(allstr)\n",
    "allstr1 = re.findall(\"[h-z]at\", string)\n",
    "print(allstr1)\n",
    "allstr2 = re.findall(\"[^h-m]at\", string)\n",
    "print(allstr2)"
   ]
  },
  {
   "cell_type": "code",
   "execution_count": 6,
   "metadata": {},
   "outputs": [
    {
     "name": "stdout",
     "output_type": "stream",
     "text": [
      "hat food mat pat\n",
      "\n",
      "keep the blue flag\n",
      "flying high \n",
      "chelsea\n",
      " keep the blue flag flying high  chelsea\n"
     ]
    }
   ],
   "source": [
    "# replace a string\n",
    "food = \"hat rat mat pat\"\n",
    "regex = re.compile(\"[r]at\")\n",
    "food = regex.sub(\"food\", food)\n",
    "print(food)\n",
    "\n",
    "# spaces\n",
    "st ='''\n",
    "keep the blue flag\n",
    "flying high \n",
    "chelsea'''\n",
    "print(st)\n",
    "reg = re.compile(\"\\n\")\n",
    "st = reg.sub(\" \", st)\n",
    "print(st)"
   ]
  },
  {
   "cell_type": "code",
   "execution_count": 7,
   "metadata": {},
   "outputs": [
    {
     "name": "stdout",
     "output_type": "stream",
     "text": [
      "Matches:  9\n",
      "Matches:  0\n",
      "Matches:  1\n",
      "matches:  3\n"
     ]
    }
   ],
   "source": [
    "# match a single character\n",
    "string = '123456789'\n",
    "print(\"Matches: \", len(re.findall(\"\\d\", string)))\n",
    "print(\"Matches: \", len(re.findall(\"\\D\", string)))\n",
    "print(\"Matches: \", len(re.findall(\"\\d{5}\", string)))\n",
    "\n",
    "num = \"123 1234 12345 123456 1234567\"\n",
    "print(\"matches: \", len(re.findall(\"\\d{5,7}\", num)))"
   ]
  },
  {
   "cell_type": "code",
   "execution_count": 12,
   "metadata": {},
   "outputs": [
    {
     "name": "stdout",
     "output_type": "stream",
     "text": [
      "it is a phone number\n",
      "it is not full name\n"
     ]
    }
   ],
   "source": [
    "# phone number verification\n",
    "# \\w = [a-z],[A-Z][0-9]\n",
    "# \\W = ^[a-z],[A-Z][0-9]\n",
    "phn =\"412-555-1212\"\n",
    "if re.search(\"\\w{3}-\\w{3}-\\w{4}\", phn):\n",
    "    print(\"it is a phone number\")\n",
    "else:\n",
    "    print(\"it is not a number\")\n",
    "\n",
    "# checking the validity of full name\n",
    "# \\s = [\\f, \\n, \\r, \\t, \\v]\n",
    "# \\s = ^[\\f, \\n, \\r, \\t]\n",
    "if re.search(\"\\w{2,20}\\s\\w{2,20}\", \"sanket chavan\"):\n",
    "    print(\"it is a fullname\")\n",
    "else:\n",
    "    print(\"it is not full name\")"
   ]
  },
  {
   "cell_type": "code",
   "execution_count": 14,
   "metadata": {},
   "outputs": [
    {
     "name": "stdout",
     "output_type": "stream",
     "text": [
      "email matches:  0\n"
     ]
    }
   ],
   "source": [
    "# verification of email addresses\n",
    "email = \"sanketchavan5595@gmail.com\"\n",
    "email1= \"1244@tiempass.com\"\n",
    "print(\"email matches: \", \n",
    "      len(re.findall(\"[\\w._%+-]{2,20}@[\\w.-]{2,20}.[A-Za_Z]{2,3}\", email)))"
   ]
  },
  {
   "cell_type": "code",
   "execution_count": null,
   "metadata": {},
   "outputs": [],
   "source": [
    "# web scraping\n",
    "import urllib.request\n",
    "url = \"\""
   ]
  }
 ],
 "metadata": {
  "kernelspec": {
   "display_name": "Python 3",
   "language": "python",
   "name": "python3"
  },
  "language_info": {
   "codemirror_mode": {
    "name": "ipython",
    "version": 3
   },
   "file_extension": ".py",
   "mimetype": "text/x-python",
   "name": "python",
   "nbconvert_exporter": "python",
   "pygments_lexer": "ipython3",
   "version": "3.7.6"
  }
 },
 "nbformat": 4,
 "nbformat_minor": 4
}
